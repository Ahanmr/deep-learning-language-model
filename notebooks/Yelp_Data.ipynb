{
 "cells": [
  {
   "cell_type": "code",
   "execution_count": 1,
   "metadata": {
    "collapsed": true
   },
   "outputs": [],
   "source": [
    "import numpy as np\n",
    "import pandas as pd\n",
    "import zipfile\n",
    "import json"
   ]
  },
  {
   "cell_type": "code",
   "execution_count": 25,
   "metadata": {
    "collapsed": true
   },
   "outputs": [],
   "source": [
    "path = \"/Users/jeremynixon/Dropbox/python_new/NLP/aws/yelp_1000.txt\""
   ]
  },
  {
   "cell_type": "code",
   "execution_count": null,
   "metadata": {
    "collapsed": true
   },
   "outputs": [],
   "source": []
  },
  {
   "cell_type": "code",
   "execution_count": 26,
   "metadata": {},
   "outputs": [],
   "source": [
    "def cut_characters(path):\n",
    "    text = open(path).read().lower()\n",
    "    char_indices = json.loads(open('/Users/jeremynixon/Dropbox/python_new/NLP/aws/char_indices.txt').read())\n",
    "    indices_char = json.loads(open('/Users/jeremynixon/Dropbox/python_new/NLP/aws/indices_char.txt').read())\n",
    "    not_in = []\n",
    "    for i in list(set(text)):\n",
    "        if i not in char_indices.keys():\n",
    "            if i not in not_in:\n",
    "                print i\n",
    "            not_in.append(i)\n",
    "    for char in not_in:\n",
    "        text = text.translate(None, char)\n",
    "    to_write = open(path, 'w')\n",
    "    to_write.write(text)"
   ]
  },
  {
   "cell_type": "code",
   "execution_count": 27,
   "metadata": {},
   "outputs": [
    {
     "name": "stdout",
     "output_type": "stream",
     "text": [
      "@\n",
      "_\n",
      "~\n"
     ]
    }
   ],
   "source": [
    "cut_characters(path)"
   ]
  },
  {
   "cell_type": "code",
   "execution_count": null,
   "metadata": {},
   "outputs": [],
   "source": []
  },
  {
   "cell_type": "code",
   "execution_count": null,
   "metadata": {
    "collapsed": true
   },
   "outputs": [],
   "source": []
  },
  {
   "cell_type": "code",
   "execution_count": null,
   "metadata": {
    "collapsed": true
   },
   "outputs": [],
   "source": []
  },
  {
   "cell_type": "code",
   "execution_count": null,
   "metadata": {
    "collapsed": true
   },
   "outputs": [],
   "source": []
  },
  {
   "cell_type": "code",
   "execution_count": null,
   "metadata": {
    "collapsed": true
   },
   "outputs": [],
   "source": []
  },
  {
   "cell_type": "code",
   "execution_count": 297,
   "metadata": {
    "collapsed": true
   },
   "outputs": [],
   "source": [
    "#correct this for where your data is saved (should be the same folder as every other file in this project)\n",
    "path = \"/Users/jeremynixon/Downloads/yelp_training_set.zip\""
   ]
  },
  {
   "cell_type": "code",
   "execution_count": 298,
   "metadata": {},
   "outputs": [],
   "source": [
    "archive = zipfile.ZipFile(path, 'r')"
   ]
  },
  {
   "cell_type": "code",
   "execution_count": 210,
   "metadata": {},
   "outputs": [
    {
     "data": {
      "text/plain": [
       "['yelp_training_set/',\n",
       " 'yelp_training_set/._yelp_training_set_business.json',\n",
       " 'yelp_training_set/._yelp_training_set_checkin.json',\n",
       " 'yelp_training_set/._yelp_training_set_review.json',\n",
       " 'yelp_training_set/._yelp_training_set_user.json',\n",
       " 'yelp_training_set/PaxHeader/',\n",
       " 'yelp_training_set/PaxHeader/._yelp_training_set_business.json',\n",
       " 'yelp_training_set/PaxHeader/._yelp_training_set_checkin.json',\n",
       " 'yelp_training_set/PaxHeader/._yelp_training_set_review.json',\n",
       " 'yelp_training_set/PaxHeader/._yelp_training_set_user.json',\n",
       " 'yelp_training_set/PaxHeader/yelp_training_set_business.json',\n",
       " 'yelp_training_set/PaxHeader/yelp_training_set_checkin.json',\n",
       " 'yelp_training_set/PaxHeader/yelp_training_set_review.json',\n",
       " 'yelp_training_set/PaxHeader/yelp_training_set_user.json',\n",
       " 'yelp_training_set/yelp_training_set_business.json',\n",
       " 'yelp_training_set/yelp_training_set_checkin.json',\n",
       " 'yelp_training_set/yelp_training_set_review.json',\n",
       " 'yelp_training_set/yelp_training_set_user.json']"
      ]
     },
     "execution_count": 210,
     "metadata": {},
     "output_type": "execute_result"
    }
   ],
   "source": [
    "archive.namelist()"
   ]
  },
  {
   "cell_type": "code",
   "execution_count": 211,
   "metadata": {
    "collapsed": true
   },
   "outputs": [],
   "source": [
    "archive.extractall(\"/Users/jeremynixon/Dropbox/python_new/NLP\")"
   ]
  },
  {
   "cell_type": "code",
   "execution_count": 212,
   "metadata": {},
   "outputs": [],
   "source": [
    "archive.close()"
   ]
  },
  {
   "cell_type": "code",
   "execution_count": 213,
   "metadata": {},
   "outputs": [
    {
     "name": "stdout",
     "output_type": "stream",
     "text": [
      "{\"business_id\": \"rncjoVoEFUJGCUoC1JgnUA\", \"full_address\": \"8466 W Peoria Ave\\nSte 6\\nPeoria, AZ 85345\", \"open\": true, \"categories\": [\"Accountants\", \"Professional Services\", \"Tax Services\", \"Financial Services\"], \"city\": \"Peoria\", \"review_count\": 3, \"name\": \"Peoria Income Tax Service\", \"neighborhoods\": [], \"longitude\": -112.241596, \"state\": \"AZ\", \"stars\": 5.0, \"latitude\": 33.581867000000003, \"type\": \"business\"}\n",
      "{\"business_id\": \"0FNFSzCFP_rGUoJx8W7tJg\", \"full_address\": \"2149 W Wood Dr\\nPhoenix, AZ 85029\", \"open\": true, \"categories\": [\"Sporting Goods\", \"Bikes\", \"Shopping\"], \"city\": \"Phoenix\", \"review_count\": 5, \"name\": \"Bike Doctor\", \"neighborhoods\": [], \"longitude\": -112.10593299999999, \"state\": \"AZ\", \"stars\": 5.0, \"latitude\": 33.604053999999998, \"type\": \"business\"}\n",
      "{\"business_id\": \"3f_lyB6vFK48ukH6ScvLHg\", \"full_address\": \"1134 N Central Ave\\nPhoenix, AZ 85004\", \"open\": true, \"categories\": [], \"city\": \"Phoenix\", \"review_count\": 4, \"name\": \"Valley Permaculture Alliance\", \"neighborhoods\":\n"
     ]
    }
   ],
   "source": [
    "json_file = open('yelp_training_set/yelp_training_set_business.json')\n",
    "json_str = json_file.read()\n",
    "print json_str[:1000]"
   ]
  },
  {
   "cell_type": "code",
   "execution_count": 214,
   "metadata": {},
   "outputs": [],
   "source": [
    "def raw(string):\n",
    "    return \"\\\"\" + string + \"\\\"\""
   ]
  },
  {
   "cell_type": "code",
   "execution_count": 93,
   "metadata": {
    "collapsed": true
   },
   "outputs": [],
   "source": []
  },
  {
   "cell_type": "code",
   "execution_count": 97,
   "metadata": {},
   "outputs": [],
   "source": [
    "# from collections import Counter\n",
    "# Counter(p).most_common(100)"
   ]
  },
  {
   "cell_type": "code",
   "execution_count": 215,
   "metadata": {},
   "outputs": [
    {
     "name": "stdout",
     "output_type": "stream",
     "text": [
      "0\n",
      "1000000\n",
      "4000000\n"
     ]
    }
   ],
   "source": [
    "food_categories = [\"Restaurants\", \"Sandwiches\", \"Food\", \"Fries\", \"Burger\", \"Subs\", \"Coffee\", \"Pizza\", \"Grill\", \"Mexican\", \"Restaurant\", \"Restaurant\", \"Taco\", \"McDonalds\"]\n",
    "i = 0\n",
    "food_businesses = []\n",
    "potentials = []\n",
    "while(i < len(json_str)-20):\n",
    "    if json_str[i:i+13] == raw(\"business_id\"):\n",
    "        i += 15\n",
    "        b_id = json_str[i:i+30].split()[0]\n",
    "        categories = []\n",
    "        while json_str[i:i+12] != raw(\"categories\"):\n",
    "            i += 1\n",
    "        i += 14\n",
    "        while json_str[i:i+6] != raw(\"city\"):\n",
    "            for s in food_categories:\n",
    "                if json_str[i:i+len(s)+2] == raw(s):\n",
    "                    food_businesses.append(b_id)\n",
    "            i += 1\n",
    "#         potential = json_str[i:i+120].split()\n",
    "#         potential = [string.translate(None, \"\\\"\").translate(None, '\\'').translate(None, ',') for string in potential]\n",
    "#         potentials.append(potential)\n",
    "#         print potential\n",
    "#         if \"Accountants\" in potential:\n",
    "#             print \"found restaurant!!!\\n\\n\\n\"\n",
    "    if i % 1000000 == 0:\n",
    "        print i\n",
    "    i += 1"
   ]
  },
  {
   "cell_type": "code",
   "execution_count": 216,
   "metadata": {},
   "outputs": [],
   "source": [
    "fb = {i:1 for i in food_businesses}"
   ]
  },
  {
   "cell_type": "code",
   "execution_count": 234,
   "metadata": {},
   "outputs": [],
   "source": [
    "# json_file = open('yelp_training_set/yelp_training_set_review.json')\n",
    "# json_str = json_file.read()\n",
    "# # json_data = json.loads(json_str)[0]\n",
    "# print json_str[:10000]"
   ]
  },
  {
   "cell_type": "code",
   "execution_count": 225,
   "metadata": {},
   "outputs": [],
   "source": []
  },
  {
   "cell_type": "code",
   "execution_count": 295,
   "metadata": {},
   "outputs": [
    {
     "name": "stdout",
     "output_type": "stream",
     "text": [
      "~\n",
      "@\n",
      "~\n",
      "_\n",
      "_\n",
      "~\n",
      "~\n",
      "_\n",
      "~\n",
      "~\n",
      "~\n",
      "@\n",
      "@\n"
     ]
    }
   ],
   "source": [
    "reviews = []\n",
    "for review in open('yelp_training_set/yelp_training_set_review.json', 'r'):\n",
    "    reviews.append(json.loads(review))\n",
    "    \n",
    "food_categories = [\"Restaurants\", \"Sandwiches\", \"Food\", \"Fries\", \"Burger\", \"Subs\", \"Coffee\", \"Pizza\", \"Grill\", \"Mexican\", \"Restaurant\", \"Restaurant\", \"Taco\", \"McDonalds\"]\n",
    "businesses = []\n",
    "for business in open('yelp_training_set/yelp_training_set_business.json', 'r'):\n",
    "    businesses.append(json.loads(business))\n",
    "    \n",
    "food_ids = {}\n",
    "for business in businesses:\n",
    "    if any(i in food_categories for i in business['categories']):\n",
    "        food_ids[business['business_id']] = 1\n",
    "        \n",
    "review_texts = []\n",
    "for review in reviews:\n",
    "    if review['business_id'] in food_ids:\n",
    "        review_texts.append(('{' + review['text'] + '}').lower().encode('ascii',errors='ignore').translate(None, 'ñ'))\n",
    "        \n",
    "path = 'yelp_100.txt'\n",
    "text = open(path).read().lower()\n",
    "chars = {i:1 for i in list(set(text))}\n",
    "\n",
    "lengths = [100]#, 1000, 10000, len(review_texts)]\n",
    "for l in xrange(1, 10):\n",
    "    length = l * 100\n",
    "    text_file = open(\"yelp_\" + str(100) + \"_\" + str(l+2) + \".txt\", \"w\")\n",
    "    for review in xrange(100+length, 200+length):\n",
    "        chars2 = {i:1 for i in list(set(review_texts[review]))}\n",
    "        to_remove = []      \n",
    "        for char in chars2.keys():\n",
    "            if char not in chars:\n",
    "                print(char)\n",
    "                to_remove.append(char)\n",
    "        cut_review = review_texts[review]\n",
    "        for j in xrange(len(to_remove)):\n",
    "            cut_review = cut_review.translate(None, to_remove[j])\n",
    "        text_file.write(cut_review)"
   ]
  },
  {
   "cell_type": "code",
   "execution_count": 276,
   "metadata": {},
   "outputs": [],
   "source": [
    "first_100 = \"\"\n",
    "for review in xrange(100):\n",
    "    first_100 += reviews[review]['text']"
   ]
  },
  {
   "cell_type": "code",
   "execution_count": 284,
   "metadata": {},
   "outputs": [],
   "source": [
    "second_100 = \"\"\n",
    "for review in xrange(100, 200):\n",
    "    second_100 += reviews[review]['text']"
   ]
  },
  {
   "cell_type": "code",
   "execution_count": 285,
   "metadata": {
    "collapsed": true
   },
   "outputs": [],
   "source": [
    "chars1 = list(set(first_100))\n",
    "chars2 = list(set(second_100))\n",
    "# \"ñ\""
   ]
  },
  {
   "cell_type": "code",
   "execution_count": 286,
   "metadata": {},
   "outputs": [
    {
     "name": "stdout",
     "output_type": "stream",
     "text": [
      "ñ\n",
      "87 85\n"
     ]
    }
   ],
   "source": [
    "for i in chars2:\n",
    "    if i not in chars1:\n",
    "        print i\n",
    "print len(chars1), len(chars2)"
   ]
  },
  {
   "cell_type": "code",
   "execution_count": 270,
   "metadata": {},
   "outputs": [
    {
     "data": {
      "text/plain": [
       "178744"
      ]
     },
     "execution_count": 270,
     "metadata": {},
     "output_type": "execute_result"
    }
   ],
   "source": [
    "len(review_texts)"
   ]
  },
  {
   "cell_type": "code",
   "execution_count": 267,
   "metadata": {},
   "outputs": [
    {
     "data": {
      "text/plain": [
       "'{my wife took me here on my birthday for breakfast and it was excellent.  the weather was perfect which made sitting outside overlooking their grounds an absolute pleasure.  our waitress was excellent and our food arrived quickly on the semi-busy saturday morning.  it looked like the place fills up pretty quickly so the earlier you get here the better.\\n\\ndo yourself a favor and get their bloody mary.  it was phenomenal and simply the best i\\'ve ever had.  i\\'m pretty sure they only use ingredients from their garden and blend them fresh when you order it.  it was amazing.\\n\\nwhile everything on the menu looks excellent, i had the white truffle scrambled eggs vegetable skillet and it was tasty and delicious.  it came with 2 pieces of their griddled bread with was amazing and it absolutely made the meal complete.  it was the best \"toast\" i\\'ve ever had.\\n\\nanyway, i can\\'t wait to go back!}'"
      ]
     },
     "execution_count": 267,
     "metadata": {},
     "output_type": "execute_result"
    }
   ],
   "source": [
    "review_texts[0]"
   ]
  },
  {
   "cell_type": "code",
   "execution_count": 269,
   "metadata": {},
   "outputs": [],
   "source": []
  },
  {
   "cell_type": "code",
   "execution_count": null,
   "metadata": {},
   "outputs": [],
   "source": []
  },
  {
   "cell_type": "code",
   "execution_count": 218,
   "metadata": {},
   "outputs": [
    {
     "data": {
      "text/plain": [
       "['\"KwGQqUCpHHhOhVqyOL2QTA\",',\n",
       " '\"cBpJIOrVXotDI0XAZH_k0g\",',\n",
       " '\"lPtTXn7_VOwqypZs07j2nA\",',\n",
       " '\"zjBoVPJi27Ntm5neRuHGvg\",',\n",
       " '\"2I666dqzs1XB6xigIKa9bA\",',\n",
       " '\"6fR4ncWEfdMLk9AacDsRzQ\",',\n",
       " '\"seu8O6yPQ5Yz8kQv-KFnKQ\",',\n",
       " '\"Bv3g-9R5wUevZPP0jzihqg\",',\n",
       " '\"LjwXnAjusrwCZGsWV3Ue8Q\",',\n",
       " '\"qgVS6sBe7JNEI8otg0Y3dg\",']"
      ]
     },
     "execution_count": 218,
     "metadata": {},
     "output_type": "execute_result"
    }
   ],
   "source": [
    "fb.keys()[:10]"
   ]
  },
  {
   "cell_type": "code",
   "execution_count": null,
   "metadata": {
    "collapsed": true
   },
   "outputs": [],
   "source": []
  },
  {
   "cell_type": "code",
   "execution_count": 205,
   "metadata": {},
   "outputs": [
    {
     "name": "stdout",
     "output_type": "stream",
     "text": [
      "10000000 10597\n",
      "20000000 21332\n",
      "30000000\n",
      "40000000 42653\n",
      "50000000\n",
      "60000000\n",
      "70000000\n",
      "80000000\n",
      "90000000\n",
      "110000000\n",
      "120000000 127630\n",
      "130000000\n",
      "140000000 148680\n",
      "150000000\n",
      "160000000 170056\n",
      "170000000 180735\n",
      "180000000\n",
      "190000000 202032\n",
      "200000000\n",
      "210000000\n"
     ]
    }
   ],
   "source": [
    "i = 0\n",
    "reviews = []\n",
    "ids = []\n",
    "while(i < len(json_str)-30):\n",
    "# while(i < 10000):\n",
    "    if json_str[i:i+6] == '\\\"text\\\"':\n",
    "        i += 8\n",
    "        new = \"\"\n",
    "        while(json_str[i:i+8] != ', \\\"type\\\"'):\n",
    "            new += json_str[i]\n",
    "            i += 1\n",
    "            if i % 10000000 == 0:\n",
    "                print i\n",
    "#         potential = json_str[i:i+150].split()\n",
    "#         for i, v in enumerate(potential):\n",
    "#             print v,\n",
    "#             if v == raw(\"business_id\"):\n",
    "#                 print potential[i+1]\n",
    "        \n",
    "#         potential = json_str[i:i+50].split()\n",
    "#     print potential\n",
    "        \n",
    "#         while json_str[i:i+13] != raw(\"business_id\"):\n",
    "#             if i % 10000000 == 0:\n",
    "#                 print i, len(reviews)\n",
    "#             if json_str[i:i+7] == raw(\"votes\"):\n",
    "#                 break\n",
    "#             i += 1\n",
    "#         i += 14\n",
    "#         b_id = json_str[i:i+30].split()[0]\n",
    "#         if b_id in fb:\n",
    "#             reviews.append(new)\n",
    "        k = 0\n",
    "        while json_str[i:i+13] != raw(\"business_id\") and k < 100:\n",
    "            i += 1\n",
    "            k += 1\n",
    "            if i % 10000000 == 0:\n",
    "                print i, len(reviews)\n",
    "            if k == 99:\n",
    "                print \"no business_id found\"\n",
    "        ids.append(json_str[i+15:i+14+25])\n",
    "        reviews.append(new)        \n",
    "    i += 1\n",
    "    if i % 10000000 == 0:\n",
    "        print i, len(reviews)"
   ]
  },
  {
   "cell_type": "code",
   "execution_count": 206,
   "metadata": {
    "scrolled": false
   },
   "outputs": [
    {
     "name": "stdout",
     "output_type": "stream",
     "text": [
      "5792 229907\n"
     ]
    }
   ],
   "source": [
    "print len(fb.keys()), len(reviews)"
   ]
  },
  {
   "cell_type": "code",
   "execution_count": 174,
   "metadata": {},
   "outputs": [
    {
     "data": {
      "text/plain": [
       "10"
      ]
     },
     "execution_count": 174,
     "metadata": {},
     "output_type": "execute_result"
    }
   ],
   "source": [
    "len(reviews)"
   ]
  },
  {
   "cell_type": "code",
   "execution_count": 171,
   "metadata": {},
   "outputs": [
    {
     "data": {
      "text/plain": [
       "[([',',\n",
       "   '\"type\":',\n",
       "   '\"review\",',\n",
       "   '\"business_id\":',\n",
       "   '\"9yKzy9PApeiPPOUJEtnvkg\"}',\n",
       "   '{\"votes\":',\n",
       "   '{\"funny\":',\n",
       "   '0,',\n",
       "   '\"useful\":',\n",
       "   '0,',\n",
       "   '\"cool\":',\n",
       "   '0},',\n",
       "   '\"user_id\":',\n",
       "   '\"0a2KyEL0d3Yb1V6aivbIuQ\",',\n",
       "   '\"rev'],\n",
       "  '\"My wife took me here on my birthday for breakfast and it was excellent.  The weather was perfect which made sitting outside overlooking their grounds an absolute pleasure.  Our waitress was excellent and our food arrived quickly on the semi-busy Saturday morning.  It looked like the place fills up pretty quickly so the earlier you get here the better.\\\\n\\\\nDo yourself a favor and get their Bloody Mary.  It was phenomenal and simply the best I\\'ve ever had.  I\\'m pretty sure they only use ingredients from their garden and blend them fresh when you order it.  It was amazing.\\\\n\\\\nWhile EVERYTHING on the menu looks excellent, I had the white truffle scrambled eggs vegetable skillet and it was tasty and delicious.  It came with 2 pieces of their griddled bread with was amazing and it absolutely made the meal complete.  It was the best \\\\\"toast\\\\\" I\\'ve ever had.\\\\n\\\\nAnyway, I can\\'t wait to go back!\"'),\n",
       " ([',',\n",
       "   '\"type\":',\n",
       "   '\"review\",',\n",
       "   '\"business_id\":',\n",
       "   '\"ZRJwVLyzEJq1VAihDhYiow\"}',\n",
       "   '{\"votes\":',\n",
       "   '{\"funny\":',\n",
       "   '0,',\n",
       "   '\"useful\":',\n",
       "   '1,',\n",
       "   '\"cool\":',\n",
       "   '0},',\n",
       "   '\"user_id\":',\n",
       "   '\"0hT2KtfLiobPvh6cDC8JQg\",',\n",
       "   '\"rev'],\n",
       "  '\"I have no idea why some people give bad reviews about this place. It goes to show you, you can please everyone. They are probably griping about something that their own fault...there are many people like that.\\\\n\\\\nIn any case, my friend and I arrived at about 5:50 PM this past Sunday. It was pretty crowded, more than I thought for a Sunday evening and thought we would have to wait forever to get a seat but they said we\\'ll be seated when the girl comes back from seating someone else. We were seated at 5:52 and the waiter came and got our drink orders. Everyone was very pleasant from the host that seated us to the waiter to the server. The prices were very good as well. We placed our orders once we decided what we wanted at 6:02. We shared the baked spaghetti calzone and the small \\\\\"Here\\'s The Beef\\\\\" pizza so we can both try them. The calzone was huge and we got the smallest one (personal) and got the small 11\\\\\" pizza. Both were awesome! My friend liked the pizza better and I liked the calzone better. The calzone does have a sweetish sauce but that\\'s how I like my sauce!\\\\n\\\\nWe had to box part of the pizza to take it home and we were out the door by 6:42. So, everything was great and not like these bad reviewers. That goes to show you that  you have to try these things yourself because all these bad reviewers have some serious issues.\"'),\n",
       " ([',',\n",
       "   '\"type\":',\n",
       "   '\"review\",',\n",
       "   '\"business_id\":',\n",
       "   '\"6oRAC4uyJCsJl1X0WZpVSA\"}',\n",
       "   '{\"votes\":',\n",
       "   '{\"funny\":',\n",
       "   '0,',\n",
       "   '\"useful\":',\n",
       "   '2,',\n",
       "   '\"cool\":',\n",
       "   '1},',\n",
       "   '\"user_id\":',\n",
       "   '\"uZetl9T0NcROGOyFfughhg\",',\n",
       "   '\"rev'],\n",
       "  '\"love the gyro plate. Rice is so good and I also dig their candy selection :)\"'),\n",
       " ([',',\n",
       "   '\"type\":',\n",
       "   '\"review\",',\n",
       "   '\"business_id\":',\n",
       "   '\"_1QQZuf4zZOyFCvXc0o6Vg\"}',\n",
       "   '{\"votes\":',\n",
       "   '{\"funny\":',\n",
       "   '0,',\n",
       "   '\"useful\":',\n",
       "   '0,',\n",
       "   '\"cool\":',\n",
       "   '0},',\n",
       "   '\"user_id\":',\n",
       "   '\"vYmM4KTsC8ZfQBg-j5MWkw\",',\n",
       "   '\"rev'],\n",
       "  '\"Rosie, Dakota, and I LOVE Chaparral Dog Park!!! It\\'s very convenient and surrounded by a lot of paths, a desert xeriscape, baseball fields, ballparks, and a lake with ducks.\\\\n\\\\nThe Scottsdale Park and Rec Dept. does a wonderful job of keeping the park clean and shaded.  You can find trash cans and poopy-pick up mitts located all over the park and paths.\\\\n\\\\nThe fenced in area is huge to let the dogs run, play, and sniff!\"'),\n",
       " ([',',\n",
       "   '\"type\":',\n",
       "   '\"review\",',\n",
       "   '\"business_id\":',\n",
       "   '\"6ozycU1RpktNG2-1BroVtw\"}',\n",
       "   '{\"votes\":',\n",
       "   '{\"funny\":',\n",
       "   '1,',\n",
       "   '\"useful\":',\n",
       "   '3,',\n",
       "   '\"cool\":',\n",
       "   '4},',\n",
       "   '\"user_id\":',\n",
       "   '\"sqYN3lNgvPbPCTRsMFu27g\",',\n",
       "   '\"rev'],\n",
       "  '\"General Manager Scott Petello is a good egg!!! Not to go into detail, but let me assure you if you have any issues (albeit rare) speak with Scott and treat the guy with some respect as you state your case and I\\'d be surprised if you don\\'t walk out totally satisfied as I just did. Like I always say..... \\\\\"Mistakes are inevitable, it\\'s how we recover from them that is important\\\\\"!!!\\\\n\\\\nThanks to Scott and his awesome staff. You\\'ve got a customer for life!! .......... :^)\"'),\n",
       " ([',',\n",
       "   '\"type\":',\n",
       "   '\"review\",',\n",
       "   '\"business_id\":',\n",
       "   '\"-yxfBYGB6SEqszmxJxd97A\"}',\n",
       "   '{\"votes\":',\n",
       "   '{\"funny\":',\n",
       "   '4,',\n",
       "   '\"useful\":',\n",
       "   '7,',\n",
       "   '\"cool\":',\n",
       "   '7},',\n",
       "   '\"user_id\":',\n",
       "   '\"wFweIWhv2fREZV_dYkz_1g\",',\n",
       "   '\"rev'],\n",
       "  '\"Quiessence is, simply put, beautiful.  Full windows and earthy wooden walls give a feeling of warmth inside this restaurant perched in the middle of a farm.  The restaurant seemed fairly full even on a Tuesday evening; we had secured reservations just a couple days before.\\\\n\\\\nMy friend and I had sampled sandwiches at the Farm Kitchen earlier that week, and were impressed enough to want to eat at the restaurant.  The crisp, fresh veggies didn\\'t disappoint: we ordered the salad with orange and grapefruit slices and the crudites to start.  Both were very good; I didn\\'t even know how much I liked raw radishes and turnips until I tried them with their pesto and aioli sauces.\\\\n\\\\nFor entrees, I ordered the lamb and my friend ordered the pork shoulder.  Service started out very good, but trailed off quickly.  Waiting for our food took a very long time (a couple seated after us received and finished their entrees before we received our\\'s), and no one bothered to explain the situation until the maitre\\'d apologized almost 45 minutes later.  Apparently the chef was unhappy with the sauce on my entree, so he started anew.  This isn\\'t really a problem, but they should have communicated this to us earlier.  For our troubles, they comped me the glass of wine I ordered, but they forgot to bring out with my entree  as I had requested.  Also, they didn\\'t offer us bread, but I will echo the lady who whispered this to us on her way out: ask for the bread.  We received warm foccacia, apple walnut, and pomegranate slices of wonder with honey and butter.  YUM.\\\\n\\\\nThe entrees were both solid, but didn\\'t quite live up to the innovation and freshness of the vegetables.  My lamb\\'s sauce was delicious, but the meat was tough.  Maybe the vegetarian entrees are the way to go?  But our dessert, the gingerbread pear cake, was yet another winner.\\\\n\\\\nIf the entrees were tad more inspired, or the service weren\\'t so spotty, this place definitely would have warranted five stars.  If I return, I\\'d like to try the 75$ tasting menu.  Our bill came out to about 100$ for two people, including tip, no drinks.\"'),\n",
       " ([',',\n",
       "   '\"type\":',\n",
       "   '\"review\",',\n",
       "   '\"business_id\":',\n",
       "   '\"zp713qNhx8d9KCJJnrw1xA\"}',\n",
       "   '{\"votes\":',\n",
       "   '{\"funny\":',\n",
       "   '0,',\n",
       "   '\"useful\":',\n",
       "   '1,',\n",
       "   '\"cool\":',\n",
       "   '0},',\n",
       "   '\"user_id\":',\n",
       "   '\"1ieuYcKS7zeAv_U15AB13A\",',\n",
       "   '\"rev'],\n",
       "  '\"Drop what you\\'re doing and drive here. After I ate here I had to go back the next day for more.  The food is that good.\\\\n\\\\nThis cute little green building may have gone competely unoticed if I hadn\\'t been driving down Palm Rd to avoid construction.  While waiting to turn onto 16th Street the \\\\\"Grand Opening\\\\\" sign caught my eye and my little yelping soul leaped for joy!  A new place to try!\\\\n\\\\nIt looked desolate from the outside but when I opened the door I was put at easy by the decor, smell and cleanliness inside.  I ordered dinner for two, to go.  The menu was awesome.  I loved seeing all the variety: poblano peppers, mole, mahi mahi, mushrooms...something wrapped in banana leaves.  It made it difficult to choose something.  Here\\'s what I\\'ve had so far: La Condesa Shrimp Burro and Baja Sur Dogfish Shark Taco.  They are both were very delicious meals but the shrimp burro stole the show.  So much flavor.  I snagged some bites from my hubbys mole and mahi mahi burros- mmmm such a delight.  The salsa bar is endless.  I really stocked up.  I was excited to try the strawberry salsa but it was too hot, in fact it all was, but I\\'m a big wimp when it comes to hot peppers. The horchata is handmade and delicious.  They throw pecans and some fruit in there too which is a yummy bonus!\\\\n\\\\nAs if the good food wasn\\'t enough to win me over the art in this restaurant sho did!  I\\'m a sucker for Mexican folk art and Frida Kahlo is my Oprah.  There\\'s a painting of her and Diego hanging over the salsa bar, it\\'s amazing.  All the paintings are great, love the artist.\"'),\n",
       " ([',',\n",
       "   '\"type\":',\n",
       "   '\"review\",',\n",
       "   '\"business_id\":',\n",
       "   '\"hW0Ne_HTHEAgGF1rAdmR-g\"}',\n",
       "   '{\"votes\":',\n",
       "   '{\"funny\":',\n",
       "   '0,',\n",
       "   '\"useful\":',\n",
       "   '0,',\n",
       "   '\"cool\":',\n",
       "   '0},',\n",
       "   '\"user_id\":',\n",
       "   '\"Vh_DlizgGhSqQh4qfZ2h6A\",',\n",
       "   '\"rev'],\n",
       "  '\"Luckily, I didn\\'t have to travel far to make my connecting flight. And for this, I thank you, Phoenix.\\\\n\\\\nMy brief layover was pleasant as the employees were kind and the flight was on time.  Hopefully, next time I can grace Phoenix with my presence for a little while longer.\"'),\n",
       " ([',',\n",
       "   '\"type\":',\n",
       "   '\"review\",',\n",
       "   '\"business_id\":',\n",
       "   '\"wNUea3IXZWD63bbOQaOH-g\"}',\n",
       "   '{\"votes\":',\n",
       "   '{\"funny\":',\n",
       "   '0,',\n",
       "   '\"useful\":',\n",
       "   '1,',\n",
       "   '\"cool\":',\n",
       "   '0},',\n",
       "   '\"user_id\":',\n",
       "   '\"sUNkXg8-KFtCMQDV6zRzQg\",',\n",
       "   '\"rev'],\n",
       "  '\"Definitely come for Happy hour! Prices are amazing, sake bombers for $3...Great atmosphere and wait staff was incredibly nice and right on to all of our needs, didn\\'t have to ask for a thing They were always spot on...Place gets crowded in the evening especially if you plan on sitting outside. I only wish there were one in Apollo Beach or Brandon!\"'),\n",
       " ([',',\n",
       "   '\"type\":',\n",
       "   '\"review\",',\n",
       "   '\"business_id\":',\n",
       "   '\"nMHhuYan8e3cONo3PornJA\"}',\n",
       "   '{\"votes\":',\n",
       "   '{\"funny\":',\n",
       "   '1,',\n",
       "   '\"useful\":',\n",
       "   '3,',\n",
       "   '\"cool\":',\n",
       "   '1},',\n",
       "   '\"user_id\":',\n",
       "   '\"-OMlS6yWkYjVldNhC31wYg\",',\n",
       "   '\"rev'],\n",
       "  '\"Nobuo shows his unique talents with everything on the menu. Carefully crafted features with much to drink. Start with the pork belly buns and a stout. Then go on until you can no longer.\"')]"
      ]
     },
     "execution_count": 171,
     "metadata": {},
     "output_type": "execute_result"
    }
   ],
   "source": [
    "reviews"
   ]
  },
  {
   "cell_type": "code",
   "execution_count": 73,
   "metadata": {},
   "outputs": [],
   "source": [
    "text_file = open(\"yelp.txt\", \"w\")\n",
    "for review in reviews:\n",
    "    text_file.write(review + \"\\n\")"
   ]
  },
  {
   "cell_type": "code",
   "execution_count": 74,
   "metadata": {
    "collapsed": true
   },
   "outputs": [],
   "source": [
    "text_file.close()"
   ]
  },
  {
   "cell_type": "code",
   "execution_count": 75,
   "metadata": {
    "collapsed": true
   },
   "outputs": [],
   "source": [
    "n = open(\"nietzsche.txt\", \"r\").read()"
   ]
  },
  {
   "cell_type": "code",
   "execution_count": 78,
   "metadata": {},
   "outputs": [
    {
     "data": {
      "text/plain": [
       "600901"
      ]
     },
     "execution_count": 78,
     "metadata": {},
     "output_type": "execute_result"
    }
   ],
   "source": [
    "len(n)"
   ]
  },
  {
   "cell_type": "code",
   "execution_count": 9,
   "metadata": {},
   "outputs": [],
   "source": [
    "text_file = open(\"yelp_medium_demarcated.txt\", \"w\")\n",
    "for review in xrange(10000):\n",
    "    text_file.write(\"{\" + reviews[review] + \"}\")"
   ]
  },
  {
   "cell_type": "code",
   "execution_count": 10,
   "metadata": {},
   "outputs": [],
   "source": [
    "text_file = open(\"yelp_small_demarcated.txt\", \"w\")\n",
    "for review in xrange(1000):\n",
    "    text_file.write(\"{\" + reviews[review] + \"}\")"
   ]
  },
  {
   "cell_type": "code",
   "execution_count": 10,
   "metadata": {
    "collapsed": true
   },
   "outputs": [],
   "source": [
    "text_file = open(\"yelp_tiny_demarcated.txt\", \"w\")\n",
    "for review in xrange(10):\n",
    "    text_file.write(\"{\" + reviews[review] + \"}\")"
   ]
  },
  {
   "cell_type": "code",
   "execution_count": null,
   "metadata": {
    "collapsed": true
   },
   "outputs": [],
   "source": []
  },
  {
   "cell_type": "code",
   "execution_count": 2,
   "metadata": {
    "collapsed": true
   },
   "outputs": [],
   "source": [
    "# Munging for character similarity"
   ]
  },
  {
   "cell_type": "code",
   "execution_count": 6,
   "metadata": {},
   "outputs": [],
   "source": [
    "small = open(\"yelp_small.txt\", \"r\").read()"
   ]
  },
  {
   "cell_type": "code",
   "execution_count": 12,
   "metadata": {},
   "outputs": [],
   "source": [
    "small_ht = {}\n",
    "for i in small:\n",
    "    small_ht[i] = 1"
   ]
  },
  {
   "cell_type": "code",
   "execution_count": 14,
   "metadata": {},
   "outputs": [
    {
     "data": {
      "text/plain": [
       "90"
      ]
     },
     "execution_count": 14,
     "metadata": {},
     "output_type": "execute_result"
    }
   ],
   "source": [
    "len(list(small_ht))"
   ]
  },
  {
   "cell_type": "code",
   "execution_count": 15,
   "metadata": {
    "collapsed": true
   },
   "outputs": [],
   "source": [
    "medium_ht = {}\n",
    "for i in open(\"yelp_medium.txt\", \"r\").read():\n",
    "    medium_ht[i] = 1"
   ]
  },
  {
   "cell_type": "code",
   "execution_count": 16,
   "metadata": {},
   "outputs": [
    {
     "data": {
      "text/plain": [
       "94"
      ]
     },
     "execution_count": 16,
     "metadata": {},
     "output_type": "execute_result"
    }
   ],
   "source": [
    "len(list(medium_ht))"
   ]
  },
  {
   "cell_type": "code",
   "execution_count": 17,
   "metadata": {},
   "outputs": [
    {
     "name": "stdout",
     "output_type": "stream",
     "text": [
      "`\n",
      "|\n",
      "{\n",
      "}\n"
     ]
    }
   ],
   "source": [
    "for i in list(medium_ht):\n",
    "    if i not in small_ht:\n",
    "        print i"
   ]
  },
  {
   "cell_type": "code",
   "execution_count": null,
   "metadata": {
    "collapsed": true
   },
   "outputs": [],
   "source": []
  }
 ],
 "metadata": {
  "kernelspec": {
   "display_name": "Python 3",
   "language": "python",
   "name": "python3"
  },
  "language_info": {
   "codemirror_mode": {
    "name": "ipython",
    "version": 3
   },
   "file_extension": ".py",
   "mimetype": "text/x-python",
   "name": "python",
   "nbconvert_exporter": "python",
   "pygments_lexer": "ipython3",
   "version": "3.6.3"
  }
 },
 "nbformat": 4,
 "nbformat_minor": 2
}
